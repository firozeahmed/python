{
 "cells": [
  {
   "cell_type": "code",
   "execution_count": 32,
   "id": "b888d8fd",
   "metadata": {},
   "outputs": [
    {
     "name": "stdout",
     "output_type": "stream",
     "text": [
      "\"Hello Python\"?\n"
     ]
    }
   ],
   "source": [
    "#1.\tWrite a Python program to print \"Hello Python\"?\n",
    "print('\"Hello Python\"?')"
   ]
  },
  {
   "cell_type": "code",
   "execution_count": 33,
   "id": "357193ae",
   "metadata": {
    "scrolled": true
   },
   "outputs": [
    {
     "name": "stdout",
     "output_type": "stream",
     "text": [
      "enter a number greater than 0: 5\n",
      "enter a number greater than 0: 6\n",
      "sum of 5 and 6 is: 11\n",
      "division of 5/6 is: 0.8333333333333334\n"
     ]
    }
   ],
   "source": [
    "#2.\tWrite a Python program to do arithmetical operations addition and division.?\n",
    "num_1 = input(\"enter a number greater than 0: \")\n",
    "num_2 = input(\"enter a number greater than 0: \")\n",
    "if '.' in num_1:\n",
    "    num_1 = float(num_1)\n",
    "else:\n",
    "    num_1 = int(num_1)\n",
    "if '.' in num_2:\n",
    "    num_2 = float(num_2)\n",
    "else:\n",
    "    num_2 = int(num_2)    \n",
    "print(f\"sum of {num_1} and {num_2} is:\",num_1+num_2)\n",
    "print(f\"division of {num_1}/{num_2} is:\",num_1/num_2)"
   ]
  },
  {
   "cell_type": "code",
   "execution_count": 34,
   "id": "f966baf9",
   "metadata": {},
   "outputs": [
    {
     "name": "stdout",
     "output_type": "stream",
     "text": [
      "enter first side of a triangle: 4\n",
      "enter second side of a triangle: 5\n",
      "enter third side of a triangle: 6\n",
      "The area of the triangle is  9.921567416492215\n"
     ]
    }
   ],
   "source": [
    "#3.\tWrite a Python program to find the area of a triangle?\n",
    "side_1 = float(input(\"enter first side of a triangle: \"))\n",
    "side_2 = float(input(\"enter second side of a triangle: \"))\n",
    "side_3 = float(input(\"enter third side of a triangle: \"))\n",
    "\n",
    "s = (side_1 + side_2 + side_3) / 2\n",
    "\n",
    "# calculate the area\n",
    "triangle_area = (s*(s-side_1)*(s-side_2)*(s-side_3)) ** 0.5\n",
    "print(\"The area of the triangle is \", triangle_area)"
   ]
  },
  {
   "cell_type": "code",
   "execution_count": 35,
   "id": "eeeb0baa",
   "metadata": {},
   "outputs": [
    {
     "name": "stdout",
     "output_type": "stream",
     "text": [
      "enter num_1: 4\n",
      "enter num_2: 5\n",
      "swapping 4 and 5 is 5 4\n"
     ]
    }
   ],
   "source": [
    "#4.\tWrite a Python program to swap two variables?\n",
    "num_1 = int(input(\"enter num_1: \"))\n",
    "num_2 = int(input(\"enter num_2: \"))\n",
    "print(f\"swapping {num_1} and {num_2} is \",end = \"\")\n",
    "num_1,num_2 = num_2,num_1\n",
    "print(num_1,num_2)"
   ]
  },
  {
   "cell_type": "code",
   "execution_count": 36,
   "id": "b56ece98",
   "metadata": {},
   "outputs": [
    {
     "name": "stdout",
     "output_type": "stream",
     "text": [
      "25\n"
     ]
    }
   ],
   "source": [
    "#5.\tWrite a Python program to generate a random number?\n",
    "import random  \n",
    "number = random.randint(20,30)  \n",
    "print(number)  "
   ]
  }
 ],
 "metadata": {
  "kernelspec": {
   "display_name": "Python 3 (ipykernel)",
   "language": "python",
   "name": "python3"
  },
  "language_info": {
   "codemirror_mode": {
    "name": "ipython",
    "version": 3
   },
   "file_extension": ".py",
   "mimetype": "text/x-python",
   "name": "python",
   "nbconvert_exporter": "python",
   "pygments_lexer": "ipython3",
   "version": "3.9.7"
  }
 },
 "nbformat": 4,
 "nbformat_minor": 5
}
