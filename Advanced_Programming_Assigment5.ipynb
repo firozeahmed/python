{
 "cells": [
  {
   "cell_type": "code",
   "execution_count": 5,
   "id": "8392c27d",
   "metadata": {},
   "outputs": [],
   "source": [
    "#1:\n",
    "def func(n):\n",
    "    odd_even = (8,2)\n",
    "    return odd_even[n % 2]"
   ]
  },
  {
   "cell_type": "code",
   "execution_count": 6,
   "id": "9c49f850",
   "metadata": {},
   "outputs": [
    {
     "data": {
      "text/plain": [
       "2"
      ]
     },
     "execution_count": 6,
     "metadata": {},
     "output_type": "execute_result"
    }
   ],
   "source": [
    "func(1)"
   ]
  },
  {
   "cell_type": "code",
   "execution_count": 7,
   "id": "bd7a1e7c",
   "metadata": {},
   "outputs": [
    {
     "data": {
      "text/plain": [
       "8"
      ]
     },
     "execution_count": 7,
     "metadata": {},
     "output_type": "execute_result"
    }
   ],
   "source": [
    "func(2)"
   ]
  },
  {
   "cell_type": "code",
   "execution_count": 8,
   "id": "2edd95ca",
   "metadata": {},
   "outputs": [
    {
     "data": {
      "text/plain": [
       "2"
      ]
     },
     "execution_count": 8,
     "metadata": {},
     "output_type": "execute_result"
    }
   ],
   "source": [
    "func(3)"
   ]
  },
  {
   "cell_type": "code",
   "execution_count": 13,
   "id": "6d3dc639",
   "metadata": {},
   "outputs": [],
   "source": [
    "#2:\n",
    "def majority_vote(votes):\n",
    "    for i in votes:\n",
    "        if votes.count(i) > len(votes)/2:\n",
    "            return i"
   ]
  },
  {
   "cell_type": "code",
   "execution_count": 14,
   "id": "ea38ef73",
   "metadata": {},
   "outputs": [
    {
     "data": {
      "text/plain": [
       "'A'"
      ]
     },
     "execution_count": 14,
     "metadata": {},
     "output_type": "execute_result"
    }
   ],
   "source": [
    "majority_vote([\"A\", \"A\", \"B\"]) "
   ]
  },
  {
   "cell_type": "code",
   "execution_count": 15,
   "id": "52aa222a",
   "metadata": {},
   "outputs": [
    {
     "data": {
      "text/plain": [
       "'A'"
      ]
     },
     "execution_count": 15,
     "metadata": {},
     "output_type": "execute_result"
    }
   ],
   "source": [
    "majority_vote([\"A\", \"A\", \"A\", \"B\", \"C\", \"A\"]) "
   ]
  },
  {
   "cell_type": "code",
   "execution_count": 16,
   "id": "989ea2ff",
   "metadata": {},
   "outputs": [],
   "source": [
    "majority_vote([\"A\", \"B\", \"B\", \"A\", \"C\", \"C\"]) "
   ]
  },
  {
   "cell_type": "code",
   "execution_count": 30,
   "id": "0dd38d86",
   "metadata": {},
   "outputs": [],
   "source": [
    "#3:\n",
    "def censor_string(my_str,words,ch):\n",
    "    my_list = list(my_str.split())\n",
    "    \n",
    "    for i in range(len(my_list)):\n",
    "        if my_list[i] in words:\n",
    "            my_list[i] = ch*len(my_list[i])\n",
    "    return \" \".join(my_list)"
   ]
  },
  {
   "cell_type": "code",
   "execution_count": 31,
   "id": "e9e784a5",
   "metadata": {},
   "outputs": [
    {
     "data": {
      "text/plain": [
       "'The *** jumped **** the moon.'"
      ]
     },
     "execution_count": 31,
     "metadata": {},
     "output_type": "execute_result"
    }
   ],
   "source": [
    "censor_string(\"The cow jumped over the moon.\", [\"cow\", \"over\"], \"*\")"
   ]
  },
  {
   "cell_type": "code",
   "execution_count": 34,
   "id": "c93e5754",
   "metadata": {},
   "outputs": [
    {
     "data": {
      "text/plain": [
       "'Why *** the ******* cross the road?'"
      ]
     },
     "execution_count": 34,
     "metadata": {},
     "output_type": "execute_result"
    }
   ],
   "source": [
    "censor_string(\"Why did the chicken cross the road?\", [\"did\", \"chicken\", \"road\"], \"*\") "
   ]
  },
  {
   "cell_type": "code",
   "execution_count": 33,
   "id": "751cb5cf",
   "metadata": {},
   "outputs": [
    {
     "data": {
      "text/plain": [
       "'----- is - Wednesday!'"
      ]
     },
     "execution_count": 33,
     "metadata": {},
     "output_type": "execute_result"
    }
   ],
   "source": [
    "censor_string(\"Today is a Wednesday!\", [\"Today\", \"a\"], \"-\")"
   ]
  },
  {
   "cell_type": "code",
   "execution_count": 38,
   "id": "fe80665d",
   "metadata": {},
   "outputs": [],
   "source": [
    "#4:\n",
    "def is_polydivisible(num):\n",
    "    length = len(str(num))\n",
    "    for i in range(1,length+1):\n",
    "        if (num//(10 ** (length-i)) % i) != 0:\n",
    "            return False\n",
    "    else:\n",
    "        return True"
   ]
  },
  {
   "cell_type": "code",
   "execution_count": 39,
   "id": "e11202e2",
   "metadata": {},
   "outputs": [
    {
     "data": {
      "text/plain": [
       "True"
      ]
     },
     "execution_count": 39,
     "metadata": {},
     "output_type": "execute_result"
    }
   ],
   "source": [
    "is_polydivisible(1232) "
   ]
  },
  {
   "cell_type": "code",
   "execution_count": 40,
   "id": "86ddfd38",
   "metadata": {},
   "outputs": [
    {
     "data": {
      "text/plain": [
       "False"
      ]
     },
     "execution_count": 40,
     "metadata": {},
     "output_type": "execute_result"
    }
   ],
   "source": [
    "is_polydivisible(123220 ) "
   ]
  },
  {
   "cell_type": "code",
   "execution_count": 51,
   "id": "20ba248e",
   "metadata": {},
   "outputs": [],
   "source": [
    "#5:\n",
    "def prime(n):\n",
    "    if n > 1:\n",
    "        for i in range(2,n):\n",
    "            if n%i == 0:\n",
    "                return False\n",
    "        else:\n",
    "            return True\n",
    "    else:\n",
    "        return False\n",
    "    \n",
    "def sum_primes(p_list):\n",
    "    if p_list:\n",
    "        sum = 0\n",
    "        for i in p_list:\n",
    "            if prime(i):\n",
    "                sum += i\n",
    "        else:\n",
    "            return sum"
   ]
  },
  {
   "cell_type": "code",
   "execution_count": 52,
   "id": "ded57785",
   "metadata": {},
   "outputs": [
    {
     "data": {
      "text/plain": [
       "17"
      ]
     },
     "execution_count": 52,
     "metadata": {},
     "output_type": "execute_result"
    }
   ],
   "source": [
    "sum_primes([1, 2, 3, 4, 5, 6, 7, 8, 9, 10])"
   ]
  },
  {
   "cell_type": "code",
   "execution_count": 53,
   "id": "36ec3584",
   "metadata": {},
   "outputs": [
    {
     "data": {
      "text/plain": [
       "87"
      ]
     },
     "execution_count": 53,
     "metadata": {},
     "output_type": "execute_result"
    }
   ],
   "source": [
    "sum_primes([2, 3, 4, 11, 20, 50, 71]) "
   ]
  },
  {
   "cell_type": "code",
   "execution_count": 54,
   "id": "38858f10",
   "metadata": {},
   "outputs": [],
   "source": [
    "sum_primes([]) "
   ]
  }
 ],
 "metadata": {
  "kernelspec": {
   "display_name": "Python 3 (ipykernel)",
   "language": "python",
   "name": "python3"
  },
  "language_info": {
   "codemirror_mode": {
    "name": "ipython",
    "version": 3
   },
   "file_extension": ".py",
   "mimetype": "text/x-python",
   "name": "python",
   "nbconvert_exporter": "python",
   "pygments_lexer": "ipython3",
   "version": "3.9.7"
  }
 },
 "nbformat": 4,
 "nbformat_minor": 5
}
