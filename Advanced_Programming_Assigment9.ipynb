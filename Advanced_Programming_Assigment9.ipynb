{
 "cells": [
  {
   "cell_type": "code",
   "execution_count": 38,
   "id": "ade16f41",
   "metadata": {},
   "outputs": [],
   "source": [
    "#1:\n",
    "def playback_duration(video,speed):\n",
    "    list1 = video.split(\":\")\n",
    "    hr = int(list1[0])*3600    \n",
    "    mins = int(list1[1])*60 \n",
    "    sec = int(list1[2])\n",
    "    total_secs = hr + mins +sec\n",
    "    \n",
    "    duration = int(total_secs//speed)    \n",
    "    if duration >= 3600:\n",
    "        hr = str(duration//3600)\n",
    "    else:\n",
    "        hr = \"00\"\n",
    "    \n",
    "    duration = duration%3600    \n",
    "    if duration >= 60:\n",
    "        mins = str(duration//60)\n",
    "    else:\n",
    "        mins = \"00\"\n",
    "    \n",
    "    duration = duration%60    \n",
    "    if duration:\n",
    "        sec = str(duration)\n",
    "    else:\n",
    "        sec = \"00\"\n",
    "        \n",
    "    if len(hr) < 2:\n",
    "        hr = \"0\"+hr\n",
    "    if len(mins) < 2:\n",
    "        mins = \"0\"+mins\n",
    "    if len(sec) < 2:\n",
    "        sec = \"0\"+sec\n",
    "    list1 = [hr,mins,sec]\n",
    "    \n",
    "    return \":\".join(list1)           \n",
    "        \n",
    "    "
   ]
  },
  {
   "cell_type": "code",
   "execution_count": 39,
   "id": "bdbf7f7b",
   "metadata": {},
   "outputs": [
    {
     "data": {
      "text/plain": [
       "'00:15:00'"
      ]
     },
     "execution_count": 39,
     "metadata": {},
     "output_type": "execute_result"
    }
   ],
   "source": [
    "playback_duration(\"00:30:00\", 2) "
   ]
  },
  {
   "cell_type": "code",
   "execution_count": 40,
   "id": "7d9feacc",
   "metadata": {},
   "outputs": [
    {
     "data": {
      "text/plain": [
       "'00:53:20'"
      ]
     },
     "execution_count": 40,
     "metadata": {},
     "output_type": "execute_result"
    }
   ],
   "source": [
    "playback_duration(\"01:20:00\", 1.5) "
   ]
  },
  {
   "cell_type": "code",
   "execution_count": 41,
   "id": "6abac9c7",
   "metadata": {},
   "outputs": [
    {
     "data": {
      "text/plain": [
       "'102:40:18'"
      ]
     },
     "execution_count": 41,
     "metadata": {},
     "output_type": "execute_result"
    }
   ],
   "source": [
    "playback_duration(\"51:20:09\", 0.5) "
   ]
  },
  {
   "cell_type": "code",
   "execution_count": 46,
   "id": "f84658ea",
   "metadata": {},
   "outputs": [],
   "source": [
    "#2:\n",
    "def pile_of_cubes(n):\n",
    "    i = 1\n",
    "    sum = 0\n",
    "    while(i):\n",
    "        sum += i**3\n",
    "        if sum == n:\n",
    "            return i\n",
    "        elif sum > n:\n",
    "            return None\n",
    "        else:\n",
    "            i += 1       "
   ]
  },
  {
   "cell_type": "code",
   "execution_count": 47,
   "id": "4ddf069c",
   "metadata": {},
   "outputs": [
    {
     "data": {
      "text/plain": [
       "45"
      ]
     },
     "execution_count": 47,
     "metadata": {},
     "output_type": "execute_result"
    }
   ],
   "source": [
    "pile_of_cubes(1071225)"
   ]
  },
  {
   "cell_type": "code",
   "execution_count": 48,
   "id": "4dfed0f9",
   "metadata": {},
   "outputs": [],
   "source": [
    "pile_of_cubes(16) "
   ]
  },
  {
   "cell_type": "code",
   "execution_count": 64,
   "id": "a7ad13a5",
   "metadata": {},
   "outputs": [],
   "source": [
    "#3:\n",
    "def find_fulcrum(list1):\n",
    "    for i in range(1,len(list1)-1):\n",
    "        l_sum = r_sum = 0\n",
    "        for j in range(0,i):\n",
    "            l_sum += list1[j]\n",
    "        for k in range(i+1,len(list1)):\n",
    "            r_sum += list1[k]\n",
    "        if l_sum == r_sum:\n",
    "            return list1[i]\n",
    "    else:\n",
    "        return -1"
   ]
  },
  {
   "cell_type": "code",
   "execution_count": 65,
   "id": "00f74a6a",
   "metadata": {},
   "outputs": [
    {
     "data": {
      "text/plain": [
       "2"
      ]
     },
     "execution_count": 65,
     "metadata": {},
     "output_type": "execute_result"
    }
   ],
   "source": [
    "find_fulcrum([3, 1, 5, 2, 4, 6, -1]) "
   ]
  },
  {
   "cell_type": "code",
   "execution_count": 66,
   "id": "be94e973",
   "metadata": {},
   "outputs": [
    {
     "data": {
      "text/plain": [
       "4"
      ]
     },
     "execution_count": 66,
     "metadata": {},
     "output_type": "execute_result"
    }
   ],
   "source": [
    "find_fulcrum([1, 2, 4, 9, 10, -10, -9, 3]) "
   ]
  },
  {
   "cell_type": "code",
   "execution_count": 67,
   "id": "1d18704d",
   "metadata": {},
   "outputs": [
    {
     "data": {
      "text/plain": [
       "1"
      ]
     },
     "execution_count": 67,
     "metadata": {},
     "output_type": "execute_result"
    }
   ],
   "source": [
    "find_fulcrum([9, 1, 9]) "
   ]
  },
  {
   "cell_type": "code",
   "execution_count": 68,
   "id": "89536c84",
   "metadata": {},
   "outputs": [
    {
     "data": {
      "text/plain": [
       "0"
      ]
     },
     "execution_count": 68,
     "metadata": {},
     "output_type": "execute_result"
    }
   ],
   "source": [
    "find_fulcrum([7, -1, 0, -1, 1, 1, 2, 3]) "
   ]
  },
  {
   "cell_type": "code",
   "execution_count": 69,
   "id": "f9228a07",
   "metadata": {},
   "outputs": [
    {
     "data": {
      "text/plain": [
       "-1"
      ]
     },
     "execution_count": 69,
     "metadata": {},
     "output_type": "execute_result"
    }
   ],
   "source": [
    "find_fulcrum([8, 8, 8, 8]) "
   ]
  },
  {
   "cell_type": "code",
   "execution_count": 76,
   "id": "0aa9d52b",
   "metadata": {},
   "outputs": [],
   "source": [
    "#4:\n",
    "def sock_merchant(list1):\n",
    "    pair = 0\n",
    "    for i in range(len(list1)):\n",
    "        if (list1[i] not in list1[:i]):\n",
    "            pair += list1.count(list1[i]) // 2\n",
    "    else:\n",
    "        return pair\n",
    "        "
   ]
  },
  {
   "cell_type": "code",
   "execution_count": 77,
   "id": "7839fcd7",
   "metadata": {},
   "outputs": [
    {
     "data": {
      "text/plain": [
       "3"
      ]
     },
     "execution_count": 77,
     "metadata": {},
     "output_type": "execute_result"
    }
   ],
   "source": [
    "sock_merchant([10, 20, 20, 10, 10, 30, 50, 10, 20]) "
   ]
  },
  {
   "cell_type": "code",
   "execution_count": 78,
   "id": "7505840a",
   "metadata": {},
   "outputs": [
    {
     "data": {
      "text/plain": [
       "4"
      ]
     },
     "execution_count": 78,
     "metadata": {},
     "output_type": "execute_result"
    }
   ],
   "source": [
    "sock_merchant([50, 20, 30, 90, 30, 20, 50, 20, 90]) "
   ]
  },
  {
   "cell_type": "code",
   "execution_count": 79,
   "id": "5980b04b",
   "metadata": {},
   "outputs": [
    {
     "data": {
      "text/plain": [
       "0"
      ]
     },
     "execution_count": 79,
     "metadata": {},
     "output_type": "execute_result"
    }
   ],
   "source": [
    "sock_merchant([]) "
   ]
  },
  {
   "cell_type": "code",
   "execution_count": 81,
   "id": "ed459c72",
   "metadata": {},
   "outputs": [],
   "source": [
    "#5:\n",
    "def negative_sum(s=\"\"):\n",
    "    list1 = list(s)\n",
    "    sum = 0\n",
    "    for i in range(len(list1)):\n",
    "        if list1[i] == '-':\n",
    "            sum += int(list1[i] + list1[i+1] + list1[i+2])\n",
    "    return sum"
   ]
  },
  {
   "cell_type": "code",
   "execution_count": 82,
   "id": "91af23d7",
   "metadata": {},
   "outputs": [
    {
     "data": {
      "text/plain": [
       "-23"
      ]
     },
     "execution_count": 82,
     "metadata": {},
     "output_type": "execute_result"
    }
   ],
   "source": [
    "negative_sum(\"-12 13%14&-11\")"
   ]
  },
  {
   "cell_type": "code",
   "execution_count": 83,
   "id": "09d18ee5",
   "metadata": {},
   "outputs": [
    {
     "data": {
      "text/plain": [
       "-33"
      ]
     },
     "execution_count": 83,
     "metadata": {},
     "output_type": "execute_result"
    }
   ],
   "source": [
    "negative_sum(\"22 13%14&-11-22 13 12\")"
   ]
  }
 ],
 "metadata": {
  "kernelspec": {
   "display_name": "Python 3 (ipykernel)",
   "language": "python",
   "name": "python3"
  },
  "language_info": {
   "codemirror_mode": {
    "name": "ipython",
    "version": 3
   },
   "file_extension": ".py",
   "mimetype": "text/x-python",
   "name": "python",
   "nbconvert_exporter": "python",
   "pygments_lexer": "ipython3",
   "version": "3.9.7"
  }
 },
 "nbformat": 4,
 "nbformat_minor": 5
}
