{
 "cells": [
  {
   "cell_type": "code",
   "execution_count": 9,
   "id": "22c4fac2",
   "metadata": {},
   "outputs": [],
   "source": [
    "#1:\n",
    "def find_the_difference(s,t):\n",
    "    for i in t:\n",
    "        if i in s:\n",
    "            if t.count(i) > s.count(i):\n",
    "                return i\n",
    "        else:\n",
    "            return i"
   ]
  },
  {
   "cell_type": "code",
   "execution_count": 10,
   "id": "7d91e034",
   "metadata": {},
   "outputs": [
    {
     "data": {
      "text/plain": [
       "'e'"
      ]
     },
     "execution_count": 10,
     "metadata": {},
     "output_type": "execute_result"
    }
   ],
   "source": [
    "find_the_difference(\"abcd\", \"abcde\") "
   ]
  },
  {
   "cell_type": "code",
   "execution_count": 11,
   "id": "2ee474b5",
   "metadata": {},
   "outputs": [
    {
     "data": {
      "text/plain": [
       "'y'"
      ]
     },
     "execution_count": 11,
     "metadata": {},
     "output_type": "execute_result"
    }
   ],
   "source": [
    "find_the_difference(\"\", \"y\") "
   ]
  },
  {
   "cell_type": "code",
   "execution_count": 12,
   "id": "a55cd9ec",
   "metadata": {},
   "outputs": [
    {
     "data": {
      "text/plain": [
       "'a'"
      ]
     },
     "execution_count": 12,
     "metadata": {},
     "output_type": "execute_result"
    }
   ],
   "source": [
    "find_the_difference(\"ae\", \"aea\") "
   ]
  },
  {
   "cell_type": "code",
   "execution_count": 19,
   "id": "76064547",
   "metadata": {},
   "outputs": [],
   "source": [
    "#2:\n",
    "def count_datatypes(*d_list):\n",
    "    dtypes = [0,0,0,0,0,0]\n",
    "    for i in d_list:\n",
    "        if type(i) == int:\n",
    "            dtypes[0] += 1\n",
    "        elif type(i) == str:\n",
    "            dtypes[1] += 1\n",
    "        elif type(i) == bool:\n",
    "            dtypes[2] += 1\n",
    "        elif type(i) == list:\n",
    "            dtypes[3] += 1\n",
    "        elif type(i) == tuple:\n",
    "            dtypes[4] += 1\n",
    "        elif type(i) == dict:\n",
    "            dtypes[5] += 1\n",
    "    return dtypes\n",
    "            "
   ]
  },
  {
   "cell_type": "code",
   "execution_count": 20,
   "id": "24d069d9",
   "metadata": {},
   "outputs": [
    {
     "data": {
      "text/plain": [
       "[2, 1, 1, 0, 0, 0]"
      ]
     },
     "execution_count": 20,
     "metadata": {},
     "output_type": "execute_result"
    }
   ],
   "source": [
    "count_datatypes(1, 45, \"Hi\", False) "
   ]
  },
  {
   "cell_type": "code",
   "execution_count": 21,
   "id": "5cee67e4",
   "metadata": {},
   "outputs": [
    {
     "data": {
      "text/plain": [
       "[3, 0, 0, 1, 1, 0]"
      ]
     },
     "execution_count": 21,
     "metadata": {},
     "output_type": "execute_result"
    }
   ],
   "source": [
    "count_datatypes([10, 20], (\"t\", \"Ok\"), 2, 3, 1) "
   ]
  },
  {
   "cell_type": "code",
   "execution_count": 22,
   "id": "975fcb1e",
   "metadata": {},
   "outputs": [
    {
     "data": {
      "text/plain": [
       "[2, 2, 3, 1, 0, 2]"
      ]
     },
     "execution_count": 22,
     "metadata": {},
     "output_type": "execute_result"
    }
   ],
   "source": [
    "count_datatypes(\"Hello\", \"Bye\", True, True, False, {\"1\": \"One\", \"2\": \"Two\"}, [1, 3], {\"Brayan\": 18}, 25, 23) "
   ]
  },
  {
   "cell_type": "code",
   "execution_count": 23,
   "id": "768149db",
   "metadata": {},
   "outputs": [
    {
     "data": {
      "text/plain": [
       "[2, 0, 1, 2, 2, 0]"
      ]
     },
     "execution_count": 23,
     "metadata": {},
     "output_type": "execute_result"
    }
   ],
   "source": [
    "count_datatypes(4, 21, (\"ES\", \"EN\"), (\"a\", \"b\"), False, [1, 2, 3], [4, 5, 6])"
   ]
  },
  {
   "cell_type": "code",
   "execution_count": 29,
   "id": "2196ae05",
   "metadata": {},
   "outputs": [],
   "source": [
    "#3:\n",
    "def fib_str(n,lst):\n",
    "    while len(lst) < n:\n",
    "        lst.append(lst[-1]+lst[-2])\n",
    "    return \", \".join(lst)"
   ]
  },
  {
   "cell_type": "code",
   "execution_count": 30,
   "id": "fca70cf5",
   "metadata": {},
   "outputs": [
    {
     "data": {
      "text/plain": [
       "'j, h, hj'"
      ]
     },
     "execution_count": 30,
     "metadata": {},
     "output_type": "execute_result"
    }
   ],
   "source": [
    "fib_str(3, [\"j\", \"h\"]) "
   ]
  },
  {
   "cell_type": "code",
   "execution_count": 31,
   "id": "8cdbfab5",
   "metadata": {},
   "outputs": [
    {
     "data": {
      "text/plain": [
       "'e, a, ae, aea, aeaae'"
      ]
     },
     "execution_count": 31,
     "metadata": {},
     "output_type": "execute_result"
    }
   ],
   "source": [
    "fib_str(5, [\"e\", \"a\"]) "
   ]
  },
  {
   "cell_type": "code",
   "execution_count": 32,
   "id": "7985a9d6",
   "metadata": {},
   "outputs": [
    {
     "data": {
      "text/plain": [
       "'n, k, kn, knk, knkkn, knkknknk'"
      ]
     },
     "execution_count": 32,
     "metadata": {},
     "output_type": "execute_result"
    }
   ],
   "source": [
    "fib_str(6, [\"n\", \"k\"]) "
   ]
  },
  {
   "cell_type": "code",
   "execution_count": 22,
   "id": "fcf3335d",
   "metadata": {},
   "outputs": [],
   "source": [
    "#4:\n",
    "def ones_threes_nines(n):\n",
    "    rem = n\n",
    "    var_9 = var_3 = var_1 = 0\n",
    "    while(rem):\n",
    "        if rem >= 9:\n",
    "            if rem%9 != 0:\n",
    "                var_9 += rem//9\n",
    "                rem = rem % 9\n",
    "            else:\n",
    "                var_9 += rem//9\n",
    "                rem = 0\n",
    "        elif rem >= 3:\n",
    "            if rem%3 != 0:\n",
    "                var_3 += rem//3\n",
    "                rem = rem % 3\n",
    "            else:\n",
    "                var_3 += rem//3\n",
    "                rem = 0\n",
    "        else:\n",
    "            var_1 = rem \n",
    "            rem = 0\n",
    "    return f\"nines:{var_9}, threes:{var_3}, ones:{var_1}\""
   ]
  },
  {
   "cell_type": "code",
   "execution_count": 23,
   "id": "17c5e14d",
   "metadata": {},
   "outputs": [
    {
     "data": {
      "text/plain": [
       "'nines:1, threes:0, ones:1'"
      ]
     },
     "execution_count": 23,
     "metadata": {},
     "output_type": "execute_result"
    }
   ],
   "source": [
    "ones_threes_nines(10)"
   ]
  },
  {
   "cell_type": "code",
   "execution_count": 24,
   "id": "d258a6fe",
   "metadata": {},
   "outputs": [
    {
     "data": {
      "text/plain": [
       "'nines:1, threes:2, ones:0'"
      ]
     },
     "execution_count": 24,
     "metadata": {},
     "output_type": "execute_result"
    }
   ],
   "source": [
    "ones_threes_nines(15)"
   ]
  },
  {
   "cell_type": "code",
   "execution_count": 25,
   "id": "a120618e",
   "metadata": {},
   "outputs": [
    {
     "data": {
      "text/plain": [
       "'nines:2, threes:1, ones:1'"
      ]
     },
     "execution_count": 25,
     "metadata": {},
     "output_type": "execute_result"
    }
   ],
   "source": [
    "ones_threes_nines(22) "
   ]
  },
  {
   "cell_type": "code",
   "execution_count": 29,
   "id": "8ceb5c39",
   "metadata": {},
   "outputs": [],
   "source": [
    "#5:  0 1 1 2 3 5 8 13 21\n",
    "def fib(n):\n",
    "    a = 0\n",
    "    b = 1    \n",
    "    for i in range(2,n+1):\n",
    "        a,b=b,a+b\n",
    "    return b       "
   ]
  },
  {
   "cell_type": "code",
   "execution_count": 30,
   "id": "5a3fb4c1",
   "metadata": {},
   "outputs": [
    {
     "data": {
      "text/plain": [
       "8"
      ]
     },
     "execution_count": 30,
     "metadata": {},
     "output_type": "execute_result"
    }
   ],
   "source": [
    "fib(6) "
   ]
  },
  {
   "cell_type": "code",
   "execution_count": 31,
   "id": "d538ed2c",
   "metadata": {},
   "outputs": [
    {
     "data": {
      "text/plain": [
       "1"
      ]
     },
     "execution_count": 31,
     "metadata": {},
     "output_type": "execute_result"
    }
   ],
   "source": [
    "fib(1) "
   ]
  },
  {
   "cell_type": "code",
   "execution_count": 32,
   "id": "e2a816b7",
   "metadata": {},
   "outputs": [
    {
     "data": {
      "text/plain": [
       "1"
      ]
     },
     "execution_count": 32,
     "metadata": {},
     "output_type": "execute_result"
    }
   ],
   "source": [
    "fib(2) "
   ]
  },
  {
   "cell_type": "code",
   "execution_count": 33,
   "id": "f5285fbc",
   "metadata": {},
   "outputs": [
    {
     "data": {
      "text/plain": [
       "21"
      ]
     },
     "execution_count": 33,
     "metadata": {},
     "output_type": "execute_result"
    }
   ],
   "source": [
    "fib(8)"
   ]
  }
 ],
 "metadata": {
  "kernelspec": {
   "display_name": "Python 3 (ipykernel)",
   "language": "python",
   "name": "python3"
  },
  "language_info": {
   "codemirror_mode": {
    "name": "ipython",
    "version": 3
   },
   "file_extension": ".py",
   "mimetype": "text/x-python",
   "name": "python",
   "nbconvert_exporter": "python",
   "pygments_lexer": "ipython3",
   "version": "3.9.7"
  }
 },
 "nbformat": 4,
 "nbformat_minor": 5
}
