{
 "cells": [
  {
   "cell_type": "code",
   "execution_count": 2,
   "id": "1e0fc078",
   "metadata": {},
   "outputs": [],
   "source": [
    "#1:\n",
    "def check_score(symbol_list):\n",
    "    score=0\n",
    "    for i in symbol_list:\n",
    "        for j in i:\n",
    "            if j == \"#\":\n",
    "                score+=5\n",
    "            elif j == \"O\":\n",
    "                score+=3\n",
    "            elif j == \"X\":\n",
    "                score+=1\n",
    "            elif j == \"!\":\n",
    "                score+=-1\n",
    "            elif j == \"!!\":\n",
    "                score+=-3\n",
    "            elif j == \"!!!\":\n",
    "                score+=-5\n",
    "            else:\n",
    "                print(\"Invalid list provided with symbol \",j)\n",
    "    if score>0:\n",
    "        return score\n",
    "    else:\n",
    "        return 0                "
   ]
  },
  {
   "cell_type": "code",
   "execution_count": 3,
   "id": "25c208ee",
   "metadata": {},
   "outputs": [
    {
     "data": {
      "text/plain": [
       "2"
      ]
     },
     "execution_count": 3,
     "metadata": {},
     "output_type": "execute_result"
    }
   ],
   "source": [
    "check_score([\n",
    "  [\"#\", \"!\"],\n",
    "  [\"!!\", \"X\"]\n",
    "])\n"
   ]
  },
  {
   "cell_type": "code",
   "execution_count": 4,
   "id": "bb078e9e",
   "metadata": {},
   "outputs": [
    {
     "data": {
      "text/plain": [
       "0"
      ]
     },
     "execution_count": 4,
     "metadata": {},
     "output_type": "execute_result"
    }
   ],
   "source": [
    "check_score([\n",
    "  [\"!!!\", \"O\", \"!\"],\n",
    "  [\"X\", \"#\", \"!!!\"],\n",
    "  [\"!!\", \"X\", \"O\"]\n",
    "]) "
   ]
  },
  {
   "cell_type": "code",
   "execution_count": 5,
   "id": "a03b13fb",
   "metadata": {},
   "outputs": [],
   "source": [
    "#2:\n",
    "def combinations(*args):\n",
    "    permutations = 1\n",
    "    for i in range(len(args)):\n",
    "        permutations*=args[i]\n",
    "    return permutations"
   ]
  },
  {
   "cell_type": "code",
   "execution_count": 6,
   "id": "c4ca087d",
   "metadata": {},
   "outputs": [
    {
     "data": {
      "text/plain": [
       "6"
      ]
     },
     "execution_count": 6,
     "metadata": {},
     "output_type": "execute_result"
    }
   ],
   "source": [
    "combinations(2, 3) "
   ]
  },
  {
   "cell_type": "code",
   "execution_count": 7,
   "id": "c96d7300",
   "metadata": {},
   "outputs": [
    {
     "data": {
      "text/plain": [
       "84"
      ]
     },
     "execution_count": 7,
     "metadata": {},
     "output_type": "execute_result"
    }
   ],
   "source": [
    "combinations(3, 7, 4) "
   ]
  },
  {
   "cell_type": "code",
   "execution_count": 8,
   "id": "d4930fce",
   "metadata": {},
   "outputs": [
    {
     "data": {
      "text/plain": [
       "120"
      ]
     },
     "execution_count": 8,
     "metadata": {},
     "output_type": "execute_result"
    }
   ],
   "source": [
    "combinations(2, 3, 4, 5) "
   ]
  },
  {
   "cell_type": "code",
   "execution_count": 9,
   "id": "89ea3b35",
   "metadata": {},
   "outputs": [],
   "source": [
    "#3:\n",
    "def encode_morse(code_data):\n",
    "    char_to_dots = {\n",
    "      'A': '.-', 'B': '-...', 'C': '-.-.', 'D': '-..', 'E': '.', 'F': '..-.',\n",
    "      'G': '--.', 'H': '....', 'I': '..', 'J': '.---', 'K': '-.-', 'L': '.-..',\n",
    "      'M': '--', 'N': '-.', 'O': '---', 'P': '.--.', 'Q': '--.-', 'R': '.-.',\n",
    "      'S': '...', 'T': '-', 'U': '..-', 'V': '...-', 'W': '.--', 'X': '-..-',\n",
    "      'Y': '-.--', 'Z': '--..', ' ': ' ', '0': '-----',\n",
    "      '1': '.----', '2': '..---', '3': '...--', '4': '....-', '5': '.....',\n",
    "      '6': '-....', '7': '--...', '8': '---..', '9': '----.',\n",
    "      '&': '.-...', \"'\": '.----.', '@': '.--.-.', ')': '-.--.-', '(': '-.--.',\n",
    "      ':': '---...', ',': '--..--', '=': '-...-', '!': '-.-.--', '.': '.-.-.-',\n",
    "      '-': '-....-', '+': '.-.-.', '\"': '.-..-.', '?': '..--..', '/': '-..-.'\n",
    "        }\n",
    "    encode_data = \"\"\n",
    "    for ch in code_data:\n",
    "        encode_data+=char_to_dots[ch]\n",
    "    return encode_data        \n"
   ]
  },
  {
   "cell_type": "code",
   "execution_count": 10,
   "id": "c33acb5b",
   "metadata": {},
   "outputs": [
    {
     "data": {
      "text/plain": [
       "'.-...--...-.....- -.-......-.-...-...-.--..'"
      ]
     },
     "execution_count": 10,
     "metadata": {},
     "output_type": "execute_result"
    }
   ],
   "source": [
    "encode_morse(\"EDABBIT CHALLENGE\") "
   ]
  },
  {
   "cell_type": "code",
   "execution_count": 11,
   "id": "7f15035b",
   "metadata": {},
   "outputs": [
    {
     "data": {
      "text/plain": [
       "'......-...--. --. -.-.--'"
      ]
     },
     "execution_count": 11,
     "metadata": {},
     "output_type": "execute_result"
    }
   ],
   "source": [
    "encode_morse(\"HELP ME !\") "
   ]
  },
  {
   "cell_type": "code",
   "execution_count": 12,
   "id": "82d18698",
   "metadata": {},
   "outputs": [],
   "source": [
    "#4:\n",
    "def prime(num):\n",
    "    for i in range(2,int(num/2)):\n",
    "        if num%i == 0:\n",
    "            return False\n",
    "    else:\n",
    "        return True    "
   ]
  },
  {
   "cell_type": "code",
   "execution_count": 13,
   "id": "81d109e1",
   "metadata": {},
   "outputs": [
    {
     "data": {
      "text/plain": [
       "True"
      ]
     },
     "execution_count": 13,
     "metadata": {},
     "output_type": "execute_result"
    }
   ],
   "source": [
    "prime(7) "
   ]
  },
  {
   "cell_type": "code",
   "execution_count": 14,
   "id": "d6c7a27e",
   "metadata": {},
   "outputs": [
    {
     "data": {
      "text/plain": [
       "True"
      ]
     },
     "execution_count": 14,
     "metadata": {},
     "output_type": "execute_result"
    }
   ],
   "source": [
    "prime(56963) "
   ]
  },
  {
   "cell_type": "code",
   "execution_count": 15,
   "id": "7ed59ef5",
   "metadata": {},
   "outputs": [
    {
     "data": {
      "text/plain": [
       "False"
      ]
     },
     "execution_count": 15,
     "metadata": {},
     "output_type": "execute_result"
    }
   ],
   "source": [
    "prime(5151512515524) "
   ]
  },
  {
   "cell_type": "code",
   "execution_count": 16,
   "id": "a074e4d9",
   "metadata": {},
   "outputs": [],
   "source": [
    "#5:\n",
    "def to_boolean_list(word):\n",
    "    alphabet = {\n",
    "        'a' : 1, \n",
    "        'b' : 2, \n",
    "        'c' : 3, \n",
    "        'd' : 4, \n",
    "        'e' : 5, \n",
    "        'f' : 6, \n",
    "        'g' : 7, \n",
    "        'h' : 8, \n",
    "        'i' : 9, \n",
    "        'j' : 10, \n",
    "        'k' : 11, \n",
    "        'l' : 12, \n",
    "        'm' : 13, \n",
    "        'n' : 14, \n",
    "        'o' : 15, \n",
    "        'p' : 16, \n",
    "        'q' : 17, \n",
    "        'r' : 18, \n",
    "        's' : 19, \n",
    "        't' : 20, \n",
    "        'u' : 21, \n",
    "        'v' : 22, \n",
    "        'w' : 23, \n",
    "        'x' : 24, \n",
    "        'y' : 25, \n",
    "        'z' : 26\n",
    "    }\n",
    "    bitstring = \"\"\n",
    "    for i in word:\n",
    "        if alphabet[i]%2:\n",
    "            bitstring+=\"1\"\n",
    "        else:\n",
    "            bitstring+=\"0\"\n",
    "    \n",
    "    boolean_list = []\n",
    "    for j in bitstring:\n",
    "        if j == \"0\":\n",
    "            boolean_list.append(False)\n",
    "        else:\n",
    "            boolean_list.append(True)\n",
    "    \n",
    "    return boolean_list            "
   ]
  },
  {
   "cell_type": "code",
   "execution_count": 17,
   "id": "2157c620",
   "metadata": {},
   "outputs": [
    {
     "data": {
      "text/plain": [
       "[False, True, False, True, True]"
      ]
     },
     "execution_count": 17,
     "metadata": {},
     "output_type": "execute_result"
    }
   ],
   "source": [
    "to_boolean_list(\"loves\")"
   ]
  },
  {
   "cell_type": "code",
   "execution_count": 19,
   "id": "21b64fc1",
   "metadata": {},
   "outputs": [
    {
     "data": {
      "text/plain": [
       "[False, True, True, False]"
      ]
     },
     "execution_count": 19,
     "metadata": {},
     "output_type": "execute_result"
    }
   ],
   "source": [
    "to_boolean_list(\"tesh\") "
   ]
  }
 ],
 "metadata": {
  "kernelspec": {
   "display_name": "Python 3 (ipykernel)",
   "language": "python",
   "name": "python3"
  },
  "language_info": {
   "codemirror_mode": {
    "name": "ipython",
    "version": 3
   },
   "file_extension": ".py",
   "mimetype": "text/x-python",
   "name": "python",
   "nbconvert_exporter": "python",
   "pygments_lexer": "ipython3",
   "version": "3.9.7"
  }
 },
 "nbformat": 4,
 "nbformat_minor": 5
}
