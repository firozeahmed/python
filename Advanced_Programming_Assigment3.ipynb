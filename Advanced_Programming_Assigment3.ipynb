{
 "cells": [
  {
   "cell_type": "code",
   "execution_count": 16,
   "id": "fc5c600f",
   "metadata": {},
   "outputs": [],
   "source": [
    "#1:\n",
    "def arithmetic_operation(cmd = \"\"):\n",
    "    cmd = cmd.replace(\" \",\"\")\n",
    "    if \"+\" in cmd:\n",
    "        index = cmd.find(\"+\")\n",
    "        num_1 = int(cmd[:index])\n",
    "        num_2 = int(cmd[index+1:])\n",
    "        return num_1 + num_2\n",
    "    elif \"-\" in cmd:\n",
    "        index = cmd.find(\"-\")\n",
    "        num_1 = int(cmd[:index])\n",
    "        num_2 = int(cmd[index+1:])\n",
    "        return num_1 - num_2\n",
    "    elif \"*\" in cmd:\n",
    "        index = cmd.find(\"*\")\n",
    "        num_1 = int(cmd[:index])\n",
    "        num_2 = int(cmd[index+1:])\n",
    "        return num_1 * num_2\n",
    "    elif \"//\" in cmd:\n",
    "        index = cmd.find(\"//\")\n",
    "        num_1 = int(cmd[:index])\n",
    "        num_2 = int(cmd[index+2:])\n",
    "        if num_2:\n",
    "            return num_1/num_2\n",
    "        else:\n",
    "            return -1    \n",
    "        "
   ]
  },
  {
   "cell_type": "code",
   "execution_count": 17,
   "id": "b9bd9bd5",
   "metadata": {},
   "outputs": [
    {
     "data": {
      "text/plain": [
       "24"
      ]
     },
     "execution_count": 17,
     "metadata": {},
     "output_type": "execute_result"
    }
   ],
   "source": [
    "arithmetic_operation(\"12 + 12\")"
   ]
  },
  {
   "cell_type": "code",
   "execution_count": 18,
   "id": "37717981",
   "metadata": {},
   "outputs": [
    {
     "data": {
      "text/plain": [
       "0"
      ]
     },
     "execution_count": 18,
     "metadata": {},
     "output_type": "execute_result"
    }
   ],
   "source": [
    "arithmetic_operation(\"12 - 12\")"
   ]
  },
  {
   "cell_type": "code",
   "execution_count": 19,
   "id": "26c7c5b5",
   "metadata": {},
   "outputs": [
    {
     "data": {
      "text/plain": [
       "144"
      ]
     },
     "execution_count": 19,
     "metadata": {},
     "output_type": "execute_result"
    }
   ],
   "source": [
    "arithmetic_operation(\"12 * 12\")"
   ]
  },
  {
   "cell_type": "code",
   "execution_count": 20,
   "id": "d305ca2d",
   "metadata": {},
   "outputs": [
    {
     "data": {
      "text/plain": [
       "-1"
      ]
     },
     "execution_count": 20,
     "metadata": {},
     "output_type": "execute_result"
    }
   ],
   "source": [
    "arithmetic_operation(\"12 // 0\")"
   ]
  },
  {
   "cell_type": "code",
   "execution_count": 21,
   "id": "8b36b6a3",
   "metadata": {},
   "outputs": [
    {
     "data": {
      "text/plain": [
       "100.36585365853658"
      ]
     },
     "execution_count": 21,
     "metadata": {},
     "output_type": "execute_result"
    }
   ],
   "source": [
    "arithmetic_operation(\"12345 // 123\")"
   ]
  },
  {
   "cell_type": "code",
   "execution_count": 28,
   "id": "38100774",
   "metadata": {},
   "outputs": [],
   "source": [
    "#2:\n",
    "import math\n",
    "def perimeter(array_2d):\n",
    "#     lenght_1 = math.sqrt( ((array_2d[0][0]-array_2d[1][0]) ** 2) + ((array_2d[0][1]-array_2d[1][1]) ** 2))\n",
    "#     lenght_2 = math.sqrt( ((array_2d[1][0]-array_2d[2][0]) ** 2) + ((array_2d[1][1]-array_2d[2][1]) ** 2))\n",
    "#     lenght_3 = math.sqrt( ((array_2d[2][0]-array_2d[0][0]) ** 2) + ((array_2d[2][1]-array_2d[0][1]) ** 2))\n",
    "    \n",
    "    p = 0\n",
    "    for i in range(len(array_2d)):\n",
    "        a = 0\n",
    "        k = i+1\n",
    "        if k == len(array_2d):\n",
    "            k = 0\n",
    "        for j in range(len(array_2d[i])):\n",
    "            a += ((array_2d[i][j]-array_2d[k][j]) ** 2)\n",
    "        p += math.sqrt(a)\n",
    "    return p\n",
    "        \n",
    "                         "
   ]
  },
  {
   "cell_type": "code",
   "execution_count": 32,
   "id": "37e88b1b",
   "metadata": {},
   "outputs": [
    {
     "data": {
      "text/plain": [
       "47.40199596789112"
      ]
     },
     "execution_count": 32,
     "metadata": {},
     "output_type": "execute_result"
    }
   ],
   "source": [
    "perimeter([[15,7,1],[5,22,2],[11,1,3]])"
   ]
  },
  {
   "cell_type": "code",
   "execution_count": 33,
   "id": "aaeb0e35",
   "metadata": {},
   "outputs": [
    {
     "data": {
      "text/plain": [
       "3.414213562373095"
      ]
     },
     "execution_count": 33,
     "metadata": {},
     "output_type": "execute_result"
    }
   ],
   "source": [
    "perimeter( [ [0, 0], [0, 1], [1, 0] ] )"
   ]
  },
  {
   "cell_type": "code",
   "execution_count": 34,
   "id": "f0cecd9b",
   "metadata": {},
   "outputs": [
    {
     "data": {
      "text/plain": [
       "68.2842712474619"
      ]
     },
     "execution_count": 34,
     "metadata": {},
     "output_type": "execute_result"
    }
   ],
   "source": [
    "perimeter( [ [-10, -10], [10, 10 ], [-10, 10] ] )"
   ]
  },
  {
   "cell_type": "code",
   "execution_count": 35,
   "id": "1f4b0dda",
   "metadata": {},
   "outputs": [],
   "source": [
    "#3:\n",
    "def tallest_skyscraper(city_2D):\n",
    "    max_height = 0\n",
    "    for j in range(len(city_2D[0])):\n",
    "        h = 0\n",
    "        for i in range(len(city_2D)):\n",
    "            h += city_2D[i][j]\n",
    "        if h > max_height:\n",
    "            max_height = h\n",
    "    return max_height\n",
    "            "
   ]
  },
  {
   "cell_type": "code",
   "execution_count": 36,
   "id": "c1d069a0",
   "metadata": {},
   "outputs": [
    {
     "data": {
      "text/plain": [
       "3"
      ]
     },
     "execution_count": 36,
     "metadata": {},
     "output_type": "execute_result"
    }
   ],
   "source": [
    "tallest_skyscraper([\n",
    "  [0, 0, 0, 0],\n",
    "  [0, 1, 0, 0],\n",
    "  [0, 1, 1, 0],\n",
    "  [1, 1, 1, 1]\n",
    "]) "
   ]
  },
  {
   "cell_type": "code",
   "execution_count": 37,
   "id": "d2b0252e",
   "metadata": {},
   "outputs": [
    {
     "data": {
      "text/plain": [
       "4"
      ]
     },
     "execution_count": 37,
     "metadata": {},
     "output_type": "execute_result"
    }
   ],
   "source": [
    "tallest_skyscraper([\n",
    "  [0, 1, 0, 0],\n",
    "  [0, 1, 0, 0],\n",
    "  [0, 1, 1, 0],\n",
    "  [1, 1, 1, 1]\n",
    "])"
   ]
  },
  {
   "cell_type": "code",
   "execution_count": 38,
   "id": "3759395c",
   "metadata": {},
   "outputs": [
    {
     "data": {
      "text/plain": [
       "2"
      ]
     },
     "execution_count": 38,
     "metadata": {},
     "output_type": "execute_result"
    }
   ],
   "source": [
    "tallest_skyscraper([\n",
    "  [0, 0, 0, 0],\n",
    "  [0, 0, 0, 0],\n",
    "  [1, 1, 1, 0],\n",
    "  [1, 1, 1, 1]\n",
    "])"
   ]
  },
  {
   "cell_type": "code",
   "execution_count": 45,
   "id": "8b0ae954",
   "metadata": {},
   "outputs": [],
   "source": [
    "#4:\n",
    "def bonus(days):\n",
    "    total = 0\n",
    "    days = days - 32\n",
    "    if days > 0:\n",
    "        rem = days - 8\n",
    "        if rem > 0:\n",
    "            total += 8*325\n",
    "            days = rem - 8\n",
    "            if days > 0:\n",
    "                total += 8*550 + days*600\n",
    "            else:\n",
    "                total += abs(rem)*550\n",
    "                \n",
    "        else:\n",
    "            total += abs(days)*325           \n",
    "            \n",
    "    else:\n",
    "        return 0  \n",
    "    return total\n",
    "            \n",
    "        "
   ]
  },
  {
   "cell_type": "code",
   "execution_count": 46,
   "id": "ff1e339b",
   "metadata": {},
   "outputs": [
    {
     "data": {
      "text/plain": [
       "0"
      ]
     },
     "execution_count": 46,
     "metadata": {},
     "output_type": "execute_result"
    }
   ],
   "source": [
    "bonus(15) "
   ]
  },
  {
   "cell_type": "code",
   "execution_count": 47,
   "id": "e1d70e86",
   "metadata": {},
   "outputs": [
    {
     "data": {
      "text/plain": [
       "1625"
      ]
     },
     "execution_count": 47,
     "metadata": {},
     "output_type": "execute_result"
    }
   ],
   "source": [
    "bonus(37) "
   ]
  },
  {
   "cell_type": "code",
   "execution_count": 48,
   "id": "52b88d9f",
   "metadata": {},
   "outputs": [
    {
     "data": {
      "text/plain": [
       "8200"
      ]
     },
     "execution_count": 48,
     "metadata": {},
     "output_type": "execute_result"
    }
   ],
   "source": [
    "bonus(50) "
   ]
  },
  {
   "cell_type": "code",
   "execution_count": 62,
   "id": "61fddf61",
   "metadata": {},
   "outputs": [],
   "source": [
    "#5:\n",
    "def is_disarium(num):\n",
    "    num_str = str(num)\n",
    "    total = 0\n",
    "    for i in range(1,len(num_str)+1):\n",
    "        total += (int(num_str[i-1])) ** i\n",
    "    if total == num:\n",
    "        return True\n",
    "    else:\n",
    "        return False        \n",
    "        "
   ]
  },
  {
   "cell_type": "code",
   "execution_count": 63,
   "id": "853141c0",
   "metadata": {},
   "outputs": [
    {
     "data": {
      "text/plain": [
       "False"
      ]
     },
     "execution_count": 63,
     "metadata": {},
     "output_type": "execute_result"
    }
   ],
   "source": [
    "is_disarium(75) "
   ]
  },
  {
   "cell_type": "code",
   "execution_count": 64,
   "id": "27981e6b",
   "metadata": {},
   "outputs": [
    {
     "data": {
      "text/plain": [
       "True"
      ]
     },
     "execution_count": 64,
     "metadata": {},
     "output_type": "execute_result"
    }
   ],
   "source": [
    "is_disarium(135) "
   ]
  },
  {
   "cell_type": "code",
   "execution_count": 65,
   "id": "6e99f3c3",
   "metadata": {},
   "outputs": [
    {
     "data": {
      "text/plain": [
       "False"
      ]
     },
     "execution_count": 65,
     "metadata": {},
     "output_type": "execute_result"
    }
   ],
   "source": [
    "is_disarium(544) "
   ]
  },
  {
   "cell_type": "code",
   "execution_count": 66,
   "id": "360afde2",
   "metadata": {},
   "outputs": [
    {
     "data": {
      "text/plain": [
       "True"
      ]
     },
     "execution_count": 66,
     "metadata": {},
     "output_type": "execute_result"
    }
   ],
   "source": [
    "is_disarium(518) "
   ]
  },
  {
   "cell_type": "code",
   "execution_count": 67,
   "id": "25a1e4ac",
   "metadata": {},
   "outputs": [
    {
     "data": {
      "text/plain": [
       "False"
      ]
     },
     "execution_count": 67,
     "metadata": {},
     "output_type": "execute_result"
    }
   ],
   "source": [
    "is_disarium(466) "
   ]
  },
  {
   "cell_type": "code",
   "execution_count": 68,
   "id": "38615a5b",
   "metadata": {},
   "outputs": [
    {
     "data": {
      "text/plain": [
       "True"
      ]
     },
     "execution_count": 68,
     "metadata": {},
     "output_type": "execute_result"
    }
   ],
   "source": [
    "is_disarium(8) "
   ]
  }
 ],
 "metadata": {
  "kernelspec": {
   "display_name": "Python 3 (ipykernel)",
   "language": "python",
   "name": "python3"
  },
  "language_info": {
   "codemirror_mode": {
    "name": "ipython",
    "version": 3
   },
   "file_extension": ".py",
   "mimetype": "text/x-python",
   "name": "python",
   "nbconvert_exporter": "python",
   "pygments_lexer": "ipython3",
   "version": "3.9.7"
  }
 },
 "nbformat": 4,
 "nbformat_minor": 5
}
