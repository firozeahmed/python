{
 "cells": [
  {
   "cell_type": "code",
   "execution_count": 1,
   "id": "2d97648c",
   "metadata": {},
   "outputs": [],
   "source": [
    "#1:\n",
    "def fib_fast(num):\n",
    "    if num == 1:\n",
    "        return 1\n",
    "    elif num == 2:\n",
    "        return 1\n",
    "    elif num > 2:\n",
    "        return fib_fast(num-1) + fib_fast(num-2)\n",
    "    else:\n",
    "        return 0"
   ]
  },
  {
   "cell_type": "code",
   "execution_count": 2,
   "id": "5caba0ec",
   "metadata": {},
   "outputs": [
    {
     "data": {
      "text/plain": [
       "5"
      ]
     },
     "execution_count": 2,
     "metadata": {},
     "output_type": "execute_result"
    }
   ],
   "source": [
    "fib_fast(5) "
   ]
  },
  {
   "cell_type": "code",
   "execution_count": 3,
   "id": "ec622d10",
   "metadata": {},
   "outputs": [
    {
     "data": {
      "text/plain": [
       "55"
      ]
     },
     "execution_count": 3,
     "metadata": {},
     "output_type": "execute_result"
    }
   ],
   "source": [
    "fib_fast(10) "
   ]
  },
  {
   "cell_type": "code",
   "execution_count": 4,
   "id": "f4701eb5",
   "metadata": {},
   "outputs": [
    {
     "data": {
      "text/plain": [
       "6765"
      ]
     },
     "execution_count": 4,
     "metadata": {},
     "output_type": "execute_result"
    }
   ],
   "source": [
    "fib_fast(20) "
   ]
  },
  {
   "cell_type": "code",
   "execution_count": 5,
   "id": "2e6385c7",
   "metadata": {},
   "outputs": [
    {
     "data": {
      "text/plain": [
       "610"
      ]
     },
     "execution_count": 5,
     "metadata": {},
     "output_type": "execute_result"
    }
   ],
   "source": [
    "fib_fast(15) "
   ]
  },
  {
   "cell_type": "code",
   "execution_count": 21,
   "id": "978313e6",
   "metadata": {},
   "outputs": [],
   "source": [
    "#2:\n",
    "def convert_to_hex(asci):\n",
    "    hex_string = \"\"\n",
    "    for i in asci:\n",
    "        hex_string += str(hex(ord(i))).replace(\"0x\",\"\") + \" \"\n",
    "    return hex_string.rstrip()\n",
    "        "
   ]
  },
  {
   "cell_type": "code",
   "execution_count": 22,
   "id": "8843b205",
   "metadata": {},
   "outputs": [
    {
     "data": {
      "text/plain": [
       "'68 65 6c 6c 6f 20 77 6f 72 6c 64'"
      ]
     },
     "execution_count": 22,
     "metadata": {},
     "output_type": "execute_result"
    }
   ],
   "source": [
    "convert_to_hex(\"hello world\")"
   ]
  },
  {
   "cell_type": "code",
   "execution_count": 23,
   "id": "b9887429",
   "metadata": {},
   "outputs": [
    {
     "data": {
      "text/plain": [
       "'42 69 67 20 42 6f 69'"
      ]
     },
     "execution_count": 23,
     "metadata": {},
     "output_type": "execute_result"
    }
   ],
   "source": [
    "convert_to_hex(\"Big Boi\") "
   ]
  },
  {
   "cell_type": "code",
   "execution_count": 24,
   "id": "f2bce1df",
   "metadata": {},
   "outputs": [
    {
     "data": {
      "text/plain": [
       "'4d 61 72 74 79 20 50 6f 70 70 69 6e 73 6f 6e'"
      ]
     },
     "execution_count": 24,
     "metadata": {},
     "output_type": "execute_result"
    }
   ],
   "source": [
    "convert_to_hex(\"Marty Poppinson\") "
   ]
  },
  {
   "cell_type": "code",
   "execution_count": 27,
   "id": "4e2b5090",
   "metadata": {},
   "outputs": [],
   "source": [
    "#3:\n",
    "def uncensor(my_str,vow_str):\n",
    "    if vow_str != \"\":\n",
    "        j = 0\n",
    "        new_str = \"\"\n",
    "        for i in my_str:\n",
    "            if i == \"*\":\n",
    "                new_str += vow_str[j]\n",
    "                j += 1\n",
    "            else:\n",
    "                new_str += i\n",
    "        return new_str                \n",
    "    else:\n",
    "        return my_str "
   ]
  },
  {
   "cell_type": "code",
   "execution_count": 28,
   "id": "99025489",
   "metadata": {},
   "outputs": [
    {
     "data": {
      "text/plain": [
       "'Where did my vowels go?'"
      ]
     },
     "execution_count": 28,
     "metadata": {},
     "output_type": "execute_result"
    }
   ],
   "source": [
    "uncensor(\"Wh*r* d*d my v*w*ls g*?\", \"eeioeo\") "
   ]
  },
  {
   "cell_type": "code",
   "execution_count": 29,
   "id": "4b951c70",
   "metadata": {},
   "outputs": [
    {
     "data": {
      "text/plain": [
       "'abcd'"
      ]
     },
     "execution_count": 29,
     "metadata": {},
     "output_type": "execute_result"
    }
   ],
   "source": [
    "uncensor(\"abcd\", \"\") "
   ]
  },
  {
   "cell_type": "code",
   "execution_count": 31,
   "id": "f5208a12",
   "metadata": {},
   "outputs": [
    {
     "data": {
      "text/plain": [
       "'UPPERCASE'"
      ]
     },
     "execution_count": 31,
     "metadata": {},
     "output_type": "execute_result"
    }
   ],
   "source": [
    "uncensor(\"*PP*RC*S*\", \"UEAE\") "
   ]
  },
  {
   "cell_type": "code",
   "execution_count": 34,
   "id": "3efad2fd",
   "metadata": {},
   "outputs": [],
   "source": [
    "#4:\n",
    "import socket\n",
    "def get_domain(ip_address):  \n",
    "  result=socket.gethostbyaddr(ip_address)\n",
    "  return result[0]"
   ]
  },
  {
   "cell_type": "code",
   "execution_count": 35,
   "id": "30032225",
   "metadata": {},
   "outputs": [
    {
     "data": {
      "text/plain": [
       "'dns.google'"
      ]
     },
     "execution_count": 35,
     "metadata": {},
     "output_type": "execute_result"
    }
   ],
   "source": [
    "get_domain(\"8.8.8.8\") "
   ]
  },
  {
   "cell_type": "code",
   "execution_count": 36,
   "id": "da6d1885",
   "metadata": {},
   "outputs": [
    {
     "data": {
      "text/plain": [
       "'dns.google'"
      ]
     },
     "execution_count": 36,
     "metadata": {},
     "output_type": "execute_result"
    }
   ],
   "source": [
    "get_domain(\"8.8.4.4\") "
   ]
  },
  {
   "cell_type": "code",
   "execution_count": 1,
   "id": "a4717ff1",
   "metadata": {},
   "outputs": [],
   "source": [
    "#5:\n",
    "def fact(num):\n",
    "    if num > 0:\n",
    "        return num * fact(num-1)\n",
    "    else :\n",
    "        return 1\n",
    "def fact_of_fact(numb):\n",
    "     if numb > 0:\n",
    "        return fact(numb) * fact_of_fact(numb-1)\n",
    "     else :\n",
    "        return 1"
   ]
  },
  {
   "cell_type": "code",
   "execution_count": 3,
   "id": "a531c6c6",
   "metadata": {},
   "outputs": [
    {
     "data": {
      "text/plain": [
       "288"
      ]
     },
     "execution_count": 3,
     "metadata": {},
     "output_type": "execute_result"
    }
   ],
   "source": [
    "fact_of_fact(4) "
   ]
  },
  {
   "cell_type": "code",
   "execution_count": 4,
   "id": "dc6f096a",
   "metadata": {},
   "outputs": [
    {
     "data": {
      "text/plain": [
       "34560"
      ]
     },
     "execution_count": 4,
     "metadata": {},
     "output_type": "execute_result"
    }
   ],
   "source": [
    "fact_of_fact(5) "
   ]
  },
  {
   "cell_type": "code",
   "execution_count": 5,
   "id": "b86b2d0a",
   "metadata": {},
   "outputs": [
    {
     "data": {
      "text/plain": [
       "24883200"
      ]
     },
     "execution_count": 5,
     "metadata": {},
     "output_type": "execute_result"
    }
   ],
   "source": [
    "fact_of_fact(6) "
   ]
  }
 ],
 "metadata": {
  "kernelspec": {
   "display_name": "Python 3 (ipykernel)",
   "language": "python",
   "name": "python3"
  },
  "language_info": {
   "codemirror_mode": {
    "name": "ipython",
    "version": 3
   },
   "file_extension": ".py",
   "mimetype": "text/x-python",
   "name": "python",
   "nbconvert_exporter": "python",
   "pygments_lexer": "ipython3",
   "version": "3.9.7"
  }
 },
 "nbformat": 4,
 "nbformat_minor": 5
}
