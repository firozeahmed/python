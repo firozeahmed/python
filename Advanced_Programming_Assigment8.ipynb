{
 "cells": [
  {
   "cell_type": "code",
   "execution_count": 7,
   "id": "103eeab0",
   "metadata": {},
   "outputs": [],
   "source": [
    "#1:\n",
    "def vowel_links(strn):\n",
    "    vowels = \"aeiou\"\n",
    "    my_list = strn.split()\n",
    "    for i in range(len(my_list)-1):\n",
    "        if my_list[i][-1] in vowels:\n",
    "            if my_list[i+1][0] in vowels:\n",
    "                return True\n",
    "    else:\n",
    "        return False        \n",
    "    "
   ]
  },
  {
   "cell_type": "code",
   "execution_count": 8,
   "id": "0666821f",
   "metadata": {},
   "outputs": [
    {
     "data": {
      "text/plain": [
       "True"
      ]
     },
     "execution_count": 8,
     "metadata": {},
     "output_type": "execute_result"
    }
   ],
   "source": [
    "vowel_links(\"a very large appliance\") "
   ]
  },
  {
   "cell_type": "code",
   "execution_count": 9,
   "id": "48f6a4b5",
   "metadata": {
    "scrolled": true
   },
   "outputs": [
    {
     "data": {
      "text/plain": [
       "True"
      ]
     },
     "execution_count": 9,
     "metadata": {},
     "output_type": "execute_result"
    }
   ],
   "source": [
    "vowel_links(\"go to edabit\") "
   ]
  },
  {
   "cell_type": "code",
   "execution_count": 10,
   "id": "70ade528",
   "metadata": {},
   "outputs": [
    {
     "data": {
      "text/plain": [
       "False"
      ]
     },
     "execution_count": 10,
     "metadata": {},
     "output_type": "execute_result"
    }
   ],
   "source": [
    "vowel_links(\"an open fire\") "
   ]
  },
  {
   "cell_type": "code",
   "execution_count": 11,
   "id": "e4484b52",
   "metadata": {},
   "outputs": [
    {
     "data": {
      "text/plain": [
       "False"
      ]
     },
     "execution_count": 11,
     "metadata": {},
     "output_type": "execute_result"
    }
   ],
   "source": [
    "vowel_links(\"a sudden applause\") "
   ]
  },
  {
   "cell_type": "code",
   "execution_count": 17,
   "id": "932b08e7",
   "metadata": {},
   "outputs": [],
   "source": [
    "#2:\n",
    "def first_before_second(strn,ch1,ch2):\n",
    "    index = strn.find(ch2)\n",
    "    if ch1 in strn[index:]:\n",
    "        return False\n",
    "    else:\n",
    "        return True"
   ]
  },
  {
   "cell_type": "code",
   "execution_count": 18,
   "id": "466a4489",
   "metadata": {},
   "outputs": [
    {
     "data": {
      "text/plain": [
       "True"
      ]
     },
     "execution_count": 18,
     "metadata": {},
     "output_type": "execute_result"
    }
   ],
   "source": [
    "first_before_second(\"a rabbit jumps joyfully\", \"a\", \"j\") "
   ]
  },
  {
   "cell_type": "code",
   "execution_count": 19,
   "id": "38aaa77c",
   "metadata": {},
   "outputs": [
    {
     "data": {
      "text/plain": [
       "True"
      ]
     },
     "execution_count": 19,
     "metadata": {},
     "output_type": "execute_result"
    }
   ],
   "source": [
    "first_before_second(\"knaves knew about waterfalls\", \"k\", \"w\") "
   ]
  },
  {
   "cell_type": "code",
   "execution_count": 20,
   "id": "3b00c88b",
   "metadata": {},
   "outputs": [
    {
     "data": {
      "text/plain": [
       "False"
      ]
     },
     "execution_count": 20,
     "metadata": {},
     "output_type": "execute_result"
    }
   ],
   "source": [
    "first_before_second(\"happy birthday\", \"a\", \"y\") "
   ]
  },
  {
   "cell_type": "code",
   "execution_count": 21,
   "id": "7dfd4517",
   "metadata": {},
   "outputs": [
    {
     "data": {
      "text/plain": [
       "False"
      ]
     },
     "execution_count": 21,
     "metadata": {},
     "output_type": "execute_result"
    }
   ],
   "source": [
    "first_before_second(\"happy birthday\", \"a\", \"y\") "
   ]
  },
  {
   "cell_type": "code",
   "execution_count": 32,
   "id": "8452333b",
   "metadata": {},
   "outputs": [],
   "source": [
    "#3:\n",
    "def char_at_pos(data,s):\n",
    "    a = 0\n",
    "    var = type(data)()\n",
    "    if s == \"even\":\n",
    "        a = 1\n",
    "    else:\n",
    "        a = 0\n",
    "    for i in range(a,len(data),2):\n",
    "        if type(var) == str:\n",
    "            var += data[i]\n",
    "        else:\n",
    "            var.append(data[i])\n",
    "    else:\n",
    "        return var"
   ]
  },
  {
   "cell_type": "code",
   "execution_count": 33,
   "id": "178088b9",
   "metadata": {},
   "outputs": [
    {
     "data": {
      "text/plain": [
       "[4, 8]"
      ]
     },
     "execution_count": 33,
     "metadata": {},
     "output_type": "execute_result"
    }
   ],
   "source": [
    "char_at_pos([2, 4, 6, 8, 10], \"even\") "
   ]
  },
  {
   "cell_type": "code",
   "execution_count": 34,
   "id": "28bf0d3f",
   "metadata": {},
   "outputs": [
    {
     "data": {
      "text/plain": [
       "['A', 'B', 'T', 'A', 'I', 'Y']"
      ]
     },
     "execution_count": 34,
     "metadata": {},
     "output_type": "execute_result"
    }
   ],
   "source": [
    "char_at_pos([\"A\", \"R\", \"B\", \"I\", \"T\", \"R\", \"A\", \"R\", \"I\", \"L\", \"Y\"], \"odd\")"
   ]
  },
  {
   "cell_type": "code",
   "execution_count": 35,
   "id": "127529d0",
   "metadata": {},
   "outputs": [
    {
     "data": {
      "text/plain": [
       "'EAI'"
      ]
     },
     "execution_count": 35,
     "metadata": {},
     "output_type": "execute_result"
    }
   ],
   "source": [
    "char_at_pos(\"EDABIT\", \"odd\") "
   ]
  },
  {
   "cell_type": "code",
   "execution_count": 36,
   "id": "23afe9d9",
   "metadata": {},
   "outputs": [],
   "source": [
    "#4:\n",
    "def GCD(list1):\n",
    "    m = min(list1)\n",
    "    for i in range(m,0,-1):\n",
    "        for j in list1:\n",
    "            if j%i:\n",
    "                break\n",
    "        else:\n",
    "            return i\n",
    "  "
   ]
  },
  {
   "cell_type": "code",
   "execution_count": 37,
   "id": "07474550",
   "metadata": {},
   "outputs": [
    {
     "data": {
      "text/plain": [
       "10"
      ]
     },
     "execution_count": 37,
     "metadata": {},
     "output_type": "execute_result"
    }
   ],
   "source": [
    "GCD([10, 20, 40])"
   ]
  },
  {
   "cell_type": "code",
   "execution_count": 38,
   "id": "45630590",
   "metadata": {},
   "outputs": [
    {
     "data": {
      "text/plain": [
       "1"
      ]
     },
     "execution_count": 38,
     "metadata": {},
     "output_type": "execute_result"
    }
   ],
   "source": [
    "GCD([1, 2, 3, 100]) "
   ]
  },
  {
   "cell_type": "code",
   "execution_count": 39,
   "id": "eb35730a",
   "metadata": {},
   "outputs": [
    {
     "data": {
      "text/plain": [
       "64"
      ]
     },
     "execution_count": 39,
     "metadata": {},
     "output_type": "execute_result"
    }
   ],
   "source": [
    "GCD([1024, 192, 2048, 512]) "
   ]
  },
  {
   "cell_type": "code",
   "execution_count": 51,
   "id": "cd86ba1b",
   "metadata": {},
   "outputs": [],
   "source": [
    "#5:\n",
    "def palindrome_type(n):\n",
    "    b=d=False\n",
    "    dec_str = str(n)\n",
    "    bin_str = bin(n).replace(\"0b\", \"\")\n",
    "    d_len = len(dec_str)//2\n",
    "    b_len = len(bin_str)//2\n",
    "    while(d_len>=0):\n",
    "        if dec_str[d_len] == dec_str[-(d_len+1)]:\n",
    "            d_len -=1\n",
    "        else:\n",
    "            break\n",
    "    else:\n",
    "        d = True\n",
    "    while(b_len>=0):\n",
    "        if bin_str[b_len] == bin_str[-(b_len+1)]:\n",
    "            b_len -=1\n",
    "        else:\n",
    "            break\n",
    "    else:\n",
    "        b = True\n",
    "    if b and d:\n",
    "        return \"Decimal and binary.\"\n",
    "    elif b:\n",
    "        return \"Binary only.\"\n",
    "    elif d:\n",
    "        return \"Decimal only.\"\n",
    "    else:\n",
    "        return \"Neither!\"   \n",
    "        \n",
    "     "
   ]
  },
  {
   "cell_type": "code",
   "execution_count": 52,
   "id": "c1054f84",
   "metadata": {},
   "outputs": [
    {
     "data": {
      "text/plain": [
       "'Decimal only.'"
      ]
     },
     "execution_count": 52,
     "metadata": {},
     "output_type": "execute_result"
    }
   ],
   "source": [
    "palindrome_type(1306031) "
   ]
  },
  {
   "cell_type": "code",
   "execution_count": 53,
   "id": "3127e673",
   "metadata": {},
   "outputs": [
    {
     "data": {
      "text/plain": [
       "'Binary only.'"
      ]
     },
     "execution_count": 53,
     "metadata": {},
     "output_type": "execute_result"
    }
   ],
   "source": [
    "palindrome_type(427787) "
   ]
  },
  {
   "cell_type": "code",
   "execution_count": 54,
   "id": "7c4ebab5",
   "metadata": {},
   "outputs": [
    {
     "data": {
      "text/plain": [
       "'Decimal and binary.'"
      ]
     },
     "execution_count": 54,
     "metadata": {},
     "output_type": "execute_result"
    }
   ],
   "source": [
    "palindrome_type(313) "
   ]
  },
  {
   "cell_type": "code",
   "execution_count": 55,
   "id": "314e7b66",
   "metadata": {},
   "outputs": [
    {
     "data": {
      "text/plain": [
       "'Neither!'"
      ]
     },
     "execution_count": 55,
     "metadata": {},
     "output_type": "execute_result"
    }
   ],
   "source": [
    "palindrome_type(934) "
   ]
  }
 ],
 "metadata": {
  "kernelspec": {
   "display_name": "Python 3 (ipykernel)",
   "language": "python",
   "name": "python3"
  },
  "language_info": {
   "codemirror_mode": {
    "name": "ipython",
    "version": 3
   },
   "file_extension": ".py",
   "mimetype": "text/x-python",
   "name": "python",
   "nbconvert_exporter": "python",
   "pygments_lexer": "ipython3",
   "version": "3.9.7"
  }
 },
 "nbformat": 4,
 "nbformat_minor": 5
}
